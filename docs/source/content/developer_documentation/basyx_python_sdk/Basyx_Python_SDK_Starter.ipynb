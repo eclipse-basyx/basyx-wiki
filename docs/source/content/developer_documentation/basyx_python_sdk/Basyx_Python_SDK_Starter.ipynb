{
 "cells": [
  {
   "cell_type": "markdown",
   "id": "07937428-8fd2-4c8d-9e18-143384119781",
   "metadata": {},
   "source": [
    "<h1 style=\"font-size:3rem;color:orange;\">Getting Started with Basyx Python SDK</h1>\n",
    "This notebook provides a step-by-step guide for setting up an AAS (Asset Administration Shell) & Submodel, running an API server using the BaSyx Python SDK, and visualizing the data using Dash (web-based visualization)"
   ]
  },
  {
   "cell_type": "markdown",
   "id": "36eb37bd-f39a-43c6-9ae2-7dc144118e36",
   "metadata": {},
   "source": [
    "## Step 1: Create a sample AAS with Submodel and its properties\n",
    "**Install dependencies (as needed)**"
   ]
  },
  {
   "cell_type": "code",
   "execution_count": 1,
   "id": "9a1baf54-d459-4251-b444-9bee6ede4352",
   "metadata": {},
   "outputs": [
    {
     "name": "stdout",
     "output_type": "stream",
     "text": [
      "Requirement already satisfied: basyx-python-sdk in c:\\users\\chakrabo\\documents\\project_david\\basyx-python-sdk\\.venv\\lib\\site-packages (1.1.0)\n",
      "Requirement already satisfied: dash in c:\\users\\chakrabo\\documents\\project_david\\basyx-python-sdk\\.venv\\lib\\site-packages (2.18.2)\n",
      "Requirement already satisfied: pyqt5 in c:\\users\\chakrabo\\documents\\project_david\\basyx-python-sdk\\.venv\\lib\\site-packages (5.15.11)\n",
      "Requirement already satisfied: requests in c:\\users\\chakrabo\\documents\\project_david\\basyx-python-sdk\\.venv\\lib\\site-packages (2.32.3)\n",
      "Requirement already satisfied: jsonschema~=4.7 in c:\\users\\chakrabo\\documents\\project_david\\basyx-python-sdk\\.venv\\lib\\site-packages (from basyx-python-sdk) (4.23.0)\n",
      "Requirement already satisfied: lxml<5,>=4.2 in c:\\users\\chakrabo\\documents\\project_david\\basyx-python-sdk\\.venv\\lib\\site-packages (from basyx-python-sdk) (4.9.4)\n",
      "Requirement already satisfied: python-dateutil<3,>=2.8 in c:\\users\\chakrabo\\documents\\project_david\\basyx-python-sdk\\.venv\\lib\\site-packages (from basyx-python-sdk) (2.9.0.post0)\n",
      "Requirement already satisfied: types-python-dateutil in c:\\users\\chakrabo\\documents\\project_david\\basyx-python-sdk\\.venv\\lib\\site-packages (from basyx-python-sdk) (2.9.0.20241206)\n",
      "Requirement already satisfied: pyecma376-2>=0.2.4 in c:\\users\\chakrabo\\documents\\project_david\\basyx-python-sdk\\.venv\\lib\\site-packages (from basyx-python-sdk) (1.0.1)\n",
      "Requirement already satisfied: urllib3<3,>=1.26 in c:\\users\\chakrabo\\documents\\project_david\\basyx-python-sdk\\.venv\\lib\\site-packages (from basyx-python-sdk) (2.3.0)\n",
      "Requirement already satisfied: Werkzeug<4,>=3.0.3 in c:\\users\\chakrabo\\documents\\project_david\\basyx-python-sdk\\.venv\\lib\\site-packages (from basyx-python-sdk) (3.0.6)\n",
      "Requirement already satisfied: schemathesis~=3.7 in c:\\users\\chakrabo\\documents\\project_david\\basyx-python-sdk\\.venv\\lib\\site-packages (from basyx-python-sdk) (3.39.9)\n",
      "Requirement already satisfied: hypothesis~=6.13 in c:\\users\\chakrabo\\documents\\project_david\\basyx-python-sdk\\.venv\\lib\\site-packages (from basyx-python-sdk) (6.125.1)\n",
      "Requirement already satisfied: lxml-stubs~=0.5.1 in c:\\users\\chakrabo\\documents\\project_david\\basyx-python-sdk\\.venv\\lib\\site-packages (from basyx-python-sdk) (0.5.1)\n",
      "Requirement already satisfied: Flask<3.1,>=1.0.4 in c:\\users\\chakrabo\\documents\\project_david\\basyx-python-sdk\\.venv\\lib\\site-packages (from dash) (3.0.3)\n",
      "Requirement already satisfied: plotly>=5.0.0 in c:\\users\\chakrabo\\documents\\project_david\\basyx-python-sdk\\.venv\\lib\\site-packages (from dash) (6.0.0)\n",
      "Requirement already satisfied: dash-html-components==2.0.0 in c:\\users\\chakrabo\\documents\\project_david\\basyx-python-sdk\\.venv\\lib\\site-packages (from dash) (2.0.0)\n",
      "Requirement already satisfied: dash-core-components==2.0.0 in c:\\users\\chakrabo\\documents\\project_david\\basyx-python-sdk\\.venv\\lib\\site-packages (from dash) (2.0.0)\n",
      "Requirement already satisfied: dash-table==5.0.0 in c:\\users\\chakrabo\\documents\\project_david\\basyx-python-sdk\\.venv\\lib\\site-packages (from dash) (5.0.0)\n",
      "Requirement already satisfied: importlib-metadata in c:\\users\\chakrabo\\documents\\project_david\\basyx-python-sdk\\.venv\\lib\\site-packages (from dash) (8.6.1)\n",
      "Requirement already satisfied: typing-extensions>=4.1.1 in c:\\users\\chakrabo\\documents\\project_david\\basyx-python-sdk\\.venv\\lib\\site-packages (from dash) (4.12.2)\n",
      "Requirement already satisfied: retrying in c:\\users\\chakrabo\\documents\\project_david\\basyx-python-sdk\\.venv\\lib\\site-packages (from dash) (1.3.4)\n",
      "Requirement already satisfied: nest-asyncio in c:\\users\\chakrabo\\documents\\project_david\\basyx-python-sdk\\.venv\\lib\\site-packages (from dash) (1.6.0)\n",
      "Requirement already satisfied: setuptools in c:\\users\\chakrabo\\documents\\project_david\\basyx-python-sdk\\.venv\\lib\\site-packages (from dash) (75.8.0)\n",
      "Requirement already satisfied: PyQt5-sip<13,>=12.15 in c:\\users\\chakrabo\\documents\\project_david\\basyx-python-sdk\\.venv\\lib\\site-packages (from pyqt5) (12.17.0)\n",
      "Requirement already satisfied: PyQt5-Qt5<5.16.0,>=5.15.2 in c:\\users\\chakrabo\\documents\\project_david\\basyx-python-sdk\\.venv\\lib\\site-packages (from pyqt5) (5.15.2)\n",
      "Requirement already satisfied: charset-normalizer<4,>=2 in c:\\users\\chakrabo\\documents\\project_david\\basyx-python-sdk\\.venv\\lib\\site-packages (from requests) (3.4.1)\n",
      "Requirement already satisfied: idna<4,>=2.5 in c:\\users\\chakrabo\\documents\\project_david\\basyx-python-sdk\\.venv\\lib\\site-packages (from requests) (3.10)\n",
      "Requirement already satisfied: certifi>=2017.4.17 in c:\\users\\chakrabo\\documents\\project_david\\basyx-python-sdk\\.venv\\lib\\site-packages (from requests) (2025.1.31)\n",
      "Requirement already satisfied: Jinja2>=3.1.2 in c:\\users\\chakrabo\\documents\\project_david\\basyx-python-sdk\\.venv\\lib\\site-packages (from Flask<3.1,>=1.0.4->dash) (3.1.5)\n",
      "Requirement already satisfied: itsdangerous>=2.1.2 in c:\\users\\chakrabo\\documents\\project_david\\basyx-python-sdk\\.venv\\lib\\site-packages (from Flask<3.1,>=1.0.4->dash) (2.2.0)\n",
      "Requirement already satisfied: click>=8.1.3 in c:\\users\\chakrabo\\documents\\project_david\\basyx-python-sdk\\.venv\\lib\\site-packages (from Flask<3.1,>=1.0.4->dash) (8.1.8)\n",
      "Requirement already satisfied: blinker>=1.6.2 in c:\\users\\chakrabo\\documents\\project_david\\basyx-python-sdk\\.venv\\lib\\site-packages (from Flask<3.1,>=1.0.4->dash) (1.9.0)\n",
      "Requirement already satisfied: attrs>=22.2.0 in c:\\users\\chakrabo\\documents\\project_david\\basyx-python-sdk\\.venv\\lib\\site-packages (from hypothesis~=6.13->basyx-python-sdk) (25.1.0)\n",
      "Requirement already satisfied: sortedcontainers<3.0.0,>=2.1.0 in c:\\users\\chakrabo\\documents\\project_david\\basyx-python-sdk\\.venv\\lib\\site-packages (from hypothesis~=6.13->basyx-python-sdk) (2.4.0)\n",
      "Requirement already satisfied: jsonschema-specifications>=2023.03.6 in c:\\users\\chakrabo\\documents\\project_david\\basyx-python-sdk\\.venv\\lib\\site-packages (from jsonschema~=4.7->basyx-python-sdk) (2024.10.1)\n",
      "Requirement already satisfied: referencing>=0.28.4 in c:\\users\\chakrabo\\documents\\project_david\\basyx-python-sdk\\.venv\\lib\\site-packages (from jsonschema~=4.7->basyx-python-sdk) (0.36.2)\n",
      "Requirement already satisfied: rpds-py>=0.7.1 in c:\\users\\chakrabo\\documents\\project_david\\basyx-python-sdk\\.venv\\lib\\site-packages (from jsonschema~=4.7->basyx-python-sdk) (0.22.3)\n",
      "Requirement already satisfied: narwhals>=1.15.1 in c:\\users\\chakrabo\\documents\\project_david\\basyx-python-sdk\\.venv\\lib\\site-packages (from plotly>=5.0.0->dash) (1.26.0)\n",
      "Requirement already satisfied: packaging in c:\\users\\chakrabo\\documents\\project_david\\basyx-python-sdk\\.venv\\lib\\site-packages (from plotly>=5.0.0->dash) (24.2)\n",
      "Requirement already satisfied: six>=1.5 in c:\\users\\chakrabo\\documents\\project_david\\basyx-python-sdk\\.venv\\lib\\site-packages (from python-dateutil<3,>=2.8->basyx-python-sdk) (1.17.0)\n",
      "Requirement already satisfied: backoff<3.0,>=2.1.2 in c:\\users\\chakrabo\\documents\\project_david\\basyx-python-sdk\\.venv\\lib\\site-packages (from schemathesis~=3.7->basyx-python-sdk) (2.2.1)\n",
      "Requirement already satisfied: colorama<1.0,>=0.4 in c:\\users\\chakrabo\\documents\\project_david\\basyx-python-sdk\\.venv\\lib\\site-packages (from schemathesis~=3.7->basyx-python-sdk) (0.4.6)\n",
      "Requirement already satisfied: harfile<1.0,>=0.3.0 in c:\\users\\chakrabo\\documents\\project_david\\basyx-python-sdk\\.venv\\lib\\site-packages (from schemathesis~=3.7->basyx-python-sdk) (0.3.0)\n",
      "Requirement already satisfied: httpx<1.0,>=0.22.0 in c:\\users\\chakrabo\\documents\\project_david\\basyx-python-sdk\\.venv\\lib\\site-packages (from schemathesis~=3.7->basyx-python-sdk) (0.28.1)\n",
      "Requirement already satisfied: hypothesis-graphql<1,>=0.11.1 in c:\\users\\chakrabo\\documents\\project_david\\basyx-python-sdk\\.venv\\lib\\site-packages (from schemathesis~=3.7->basyx-python-sdk) (0.11.1)\n",
      "Requirement already satisfied: hypothesis-jsonschema<0.24,>=0.23.1 in c:\\users\\chakrabo\\documents\\project_david\\basyx-python-sdk\\.venv\\lib\\site-packages (from schemathesis~=3.7->basyx-python-sdk) (0.23.1)\n",
      "Requirement already satisfied: junit-xml<2.0,>=1.9 in c:\\users\\chakrabo\\documents\\project_david\\basyx-python-sdk\\.venv\\lib\\site-packages (from schemathesis~=3.7->basyx-python-sdk) (1.9)\n",
      "Requirement already satisfied: pyrate-limiter<4.0,>=2.10 in c:\\users\\chakrabo\\documents\\project_david\\basyx-python-sdk\\.venv\\lib\\site-packages (from schemathesis~=3.7->basyx-python-sdk) (3.7.0)\n",
      "Requirement already satisfied: pytest-subtests<0.15.0,>=0.2.1 in c:\\users\\chakrabo\\documents\\project_david\\basyx-python-sdk\\.venv\\lib\\site-packages (from schemathesis~=3.7->basyx-python-sdk) (0.14.1)\n",
      "Requirement already satisfied: pytest<9,>=4.6.4 in c:\\users\\chakrabo\\documents\\project_david\\basyx-python-sdk\\.venv\\lib\\site-packages (from schemathesis~=3.7->basyx-python-sdk) (8.3.4)\n",
      "Requirement already satisfied: pyyaml<7.0,>=5.1 in c:\\users\\chakrabo\\documents\\project_david\\basyx-python-sdk\\.venv\\lib\\site-packages (from schemathesis~=3.7->basyx-python-sdk) (6.0.2)\n",
      "Requirement already satisfied: starlette-testclient<1,>=0.4.1 in c:\\users\\chakrabo\\documents\\project_david\\basyx-python-sdk\\.venv\\lib\\site-packages (from schemathesis~=3.7->basyx-python-sdk) (0.4.1)\n",
      "Requirement already satisfied: starlette<1,>=0.13 in c:\\users\\chakrabo\\documents\\project_david\\basyx-python-sdk\\.venv\\lib\\site-packages (from schemathesis~=3.7->basyx-python-sdk) (0.45.3)\n",
      "Requirement already satisfied: tomli-w<2.0,>=1.0.0 in c:\\users\\chakrabo\\documents\\project_david\\basyx-python-sdk\\.venv\\lib\\site-packages (from schemathesis~=3.7->basyx-python-sdk) (1.2.0)\n",
      "Requirement already satisfied: tomli<3.0,>=2.0.1 in c:\\users\\chakrabo\\documents\\project_david\\basyx-python-sdk\\.venv\\lib\\site-packages (from schemathesis~=3.7->basyx-python-sdk) (2.2.1)\n",
      "Requirement already satisfied: yarl<2.0,>=1.5 in c:\\users\\chakrabo\\documents\\project_david\\basyx-python-sdk\\.venv\\lib\\site-packages (from schemathesis~=3.7->basyx-python-sdk) (1.18.3)\n",
      "Requirement already satisfied: MarkupSafe>=2.1.1 in c:\\users\\chakrabo\\documents\\project_david\\basyx-python-sdk\\.venv\\lib\\site-packages (from Werkzeug<4,>=3.0.3->basyx-python-sdk) (3.0.2)\n",
      "Requirement already satisfied: zipp>=3.20 in c:\\users\\chakrabo\\documents\\project_david\\basyx-python-sdk\\.venv\\lib\\site-packages (from importlib-metadata->dash) (3.21.0)\n",
      "Requirement already satisfied: anyio in c:\\users\\chakrabo\\documents\\project_david\\basyx-python-sdk\\.venv\\lib\\site-packages (from httpx<1.0,>=0.22.0->schemathesis~=3.7->basyx-python-sdk) (4.8.0)\n",
      "Requirement already satisfied: httpcore==1.* in c:\\users\\chakrabo\\documents\\project_david\\basyx-python-sdk\\.venv\\lib\\site-packages (from httpx<1.0,>=0.22.0->schemathesis~=3.7->basyx-python-sdk) (1.0.7)\n",
      "Requirement already satisfied: h11<0.15,>=0.13 in c:\\users\\chakrabo\\documents\\project_david\\basyx-python-sdk\\.venv\\lib\\site-packages (from httpcore==1.*->httpx<1.0,>=0.22.0->schemathesis~=3.7->basyx-python-sdk) (0.14.0)\n",
      "Requirement already satisfied: graphql-core<3.3.0,>=3.1.0 in c:\\users\\chakrabo\\documents\\project_david\\basyx-python-sdk\\.venv\\lib\\site-packages (from hypothesis-graphql<1,>=0.11.1->schemathesis~=3.7->basyx-python-sdk) (3.2.6)\n",
      "Requirement already satisfied: fqdn in c:\\users\\chakrabo\\documents\\project_david\\basyx-python-sdk\\.venv\\lib\\site-packages (from jsonschema[format]<5.0,>=4.18.0->schemathesis~=3.7->basyx-python-sdk) (1.5.1)\n",
      "Requirement already satisfied: isoduration in c:\\users\\chakrabo\\documents\\project_david\\basyx-python-sdk\\.venv\\lib\\site-packages (from jsonschema[format]<5.0,>=4.18.0->schemathesis~=3.7->basyx-python-sdk) (20.11.0)\n",
      "Requirement already satisfied: jsonpointer>1.13 in c:\\users\\chakrabo\\documents\\project_david\\basyx-python-sdk\\.venv\\lib\\site-packages (from jsonschema[format]<5.0,>=4.18.0->schemathesis~=3.7->basyx-python-sdk) (3.0.0)\n",
      "Requirement already satisfied: rfc3339-validator in c:\\users\\chakrabo\\documents\\project_david\\basyx-python-sdk\\.venv\\lib\\site-packages (from jsonschema[format]<5.0,>=4.18.0->schemathesis~=3.7->basyx-python-sdk) (0.1.4)\n",
      "Requirement already satisfied: rfc3987 in c:\\users\\chakrabo\\documents\\project_david\\basyx-python-sdk\\.venv\\lib\\site-packages (from jsonschema[format]<5.0,>=4.18.0->schemathesis~=3.7->basyx-python-sdk) (1.3.8)\n",
      "Requirement already satisfied: uri-template in c:\\users\\chakrabo\\documents\\project_david\\basyx-python-sdk\\.venv\\lib\\site-packages (from jsonschema[format]<5.0,>=4.18.0->schemathesis~=3.7->basyx-python-sdk) (1.3.0)\n",
      "Requirement already satisfied: webcolors>=1.11 in c:\\users\\chakrabo\\documents\\project_david\\basyx-python-sdk\\.venv\\lib\\site-packages (from jsonschema[format]<5.0,>=4.18.0->schemathesis~=3.7->basyx-python-sdk) (24.11.1)\n",
      "Requirement already satisfied: iniconfig in c:\\users\\chakrabo\\documents\\project_david\\basyx-python-sdk\\.venv\\lib\\site-packages (from pytest<9,>=4.6.4->schemathesis~=3.7->basyx-python-sdk) (2.0.0)\n",
      "Requirement already satisfied: pluggy<2,>=1.5 in c:\\users\\chakrabo\\documents\\project_david\\basyx-python-sdk\\.venv\\lib\\site-packages (from pytest<9,>=4.6.4->schemathesis~=3.7->basyx-python-sdk) (1.5.0)\n",
      "Requirement already satisfied: multidict>=4.0 in c:\\users\\chakrabo\\documents\\project_david\\basyx-python-sdk\\.venv\\lib\\site-packages (from yarl<2.0,>=1.5->schemathesis~=3.7->basyx-python-sdk) (6.1.0)\n",
      "Requirement already satisfied: propcache>=0.2.0 in c:\\users\\chakrabo\\documents\\project_david\\basyx-python-sdk\\.venv\\lib\\site-packages (from yarl<2.0,>=1.5->schemathesis~=3.7->basyx-python-sdk) (0.2.1)\n",
      "Requirement already satisfied: sniffio>=1.1 in c:\\users\\chakrabo\\documents\\project_david\\basyx-python-sdk\\.venv\\lib\\site-packages (from anyio->httpx<1.0,>=0.22.0->schemathesis~=3.7->basyx-python-sdk) (1.3.1)\n",
      "Requirement already satisfied: arrow>=0.15.0 in c:\\users\\chakrabo\\documents\\project_david\\basyx-python-sdk\\.venv\\lib\\site-packages (from isoduration->jsonschema[format]<5.0,>=4.18.0->schemathesis~=3.7->basyx-python-sdk) (1.3.0)\n"
     ]
    },
    {
     "name": "stderr",
     "output_type": "stream",
     "text": [
      "\n",
      "[notice] A new release of pip is available: 25.0 -> 25.0.1\n",
      "[notice] To update, run: python.exe -m pip install --upgrade pip\n"
     ]
    }
   ],
   "source": [
    "\n",
    "!pip install basyx-python-sdk dash pyqt5 requests"
   ]
  },
  {
   "cell_type": "markdown",
   "id": "475ab56f-8707-4fa3-906f-1892800ebda2",
   "metadata": {},
   "source": [
    "**Import Required Libraries**\n"
   ]
  },
  {
   "cell_type": "code",
   "execution_count": 7,
   "id": "b2d2e218-7eea-4958-bc09-dab46369a9ab",
   "metadata": {},
   "outputs": [],
   "source": [
    "import plotly.graph_objects as go\n",
    "import networkx as nx\n",
    "from basyx.aas import model\n",
    "from basyx.aas.adapter.json import write_aas_json_file\n",
    "import json, os"
   ]
  },
  {
   "cell_type": "markdown",
   "id": "30dd4d0c-70a2-4fa4-a457-4c54cbf64dc8",
   "metadata": {},
   "source": [
    "**Get the current working directory to set the storage path dynamically**"
   ]
  },
  {
   "cell_type": "code",
   "execution_count": 8,
   "id": "5dc4d9f9-a7ec-4aad-837d-13f868f8b7b9",
   "metadata": {},
   "outputs": [],
   "source": [
    "current_dir = os.getcwd()\n",
    "\n",
    "storage_path = os.path.join(current_dir, \"server\", \"app\", \"storage\", \"aas_data.json\")\n"
   ]
  },
  {
   "cell_type": "markdown",
   "id": "506c94c4-8eaa-4f17-a119-e3e701108e0c",
   "metadata": {},
   "source": [
    "**Provide the identifiers and required fields for AAS and submodel**"
   ]
  },
  {
   "cell_type": "code",
   "execution_count": 9,
   "id": "739fc218-16bc-479d-86e8-b93ba2ddc6dc",
   "metadata": {},
   "outputs": [],
   "source": [
    "\n",
    "aas_identifier = \"https://example.com/AAS\"\n",
    "submodel_identifier = \"https://example.com/Submodel\"\n",
    "\n",
    "asset_info = model.AssetInformation(asset_kind=model.AssetKind.INSTANCE, global_asset_id=\"Asset1\")\n",
    "\n",
    "aas = model.AssetAdministrationShell(asset_information=asset_info, id_=model.Identifier(aas_identifier))\n",
    "\n",
    "submodel = model.Submodel(id_=model.Identifier(submodel_identifier))\n",
    "submodel_reference = model.ModelReference.from_referable(submodel)\n",
    "\n",
    "aas.submodel.add(submodel_reference)"
   ]
  },
  {
   "cell_type": "markdown",
   "id": "73d3197e-d900-4eff-946b-4c76cc9a248d",
   "metadata": {},
   "source": [
    "**Define Properties for the Submodel**"
   ]
  },
  {
   "cell_type": "code",
   "execution_count": 10,
   "id": "0968c924-606f-4777-8b58-363ddaeba5be",
   "metadata": {},
   "outputs": [],
   "source": [
    "\n",
    "\n",
    "prop1 = model.Property(id_short=\"Temperature\", value_type=model.datatypes.Float, value=25.3, semantic_id=model.ExternalReference(\n",
    "                (model.Key(\n",
    "                    type_=model.KeyTypes.GLOBAL_REFERENCE,\n",
    "                    value='http://acplt.org/Properties/FirstSimpleProperty'\n",
    "                ),)\n",
    "            ))\n",
    "prop2 = model.Property(id_short=\"Pressure\", value_type=model.datatypes.Integer, value=100,  semantic_id=model.ExternalReference(\n",
    "                (model.Key(\n",
    "                    type_=model.KeyTypes.GLOBAL_REFERENCE,\n",
    "                    value='http://acplt.org/Properties/SecondSimpleProperty'\n",
    "                ),)\n",
    "            ))\n",
    "submodel.submodel_element.add(prop1)\n",
    "submodel.submodel_element.add(prop2)\n"
   ]
  },
  {
   "cell_type": "markdown",
   "id": "33d5de74-8a82-42ab-adca-dcd8b978df19",
   "metadata": {},
   "source": [
    "**Convert the AAS and Submodel data in JSON and Save**"
   ]
  },
  {
   "cell_type": "code",
   "execution_count": 11,
   "id": "74e7142c-8540-41e8-834c-1160ba96fcb7",
   "metadata": {},
   "outputs": [
    {
     "name": "stdout",
     "output_type": "stream",
     "text": [
      "AAS data has been successfully saved to C:\\Users\\chakrabo\\Documents\\Project_David\\basyx-python-sdk\\server\\app\\storage\\aas_data.json \n"
     ]
    }
   ],
   "source": [
    "\n",
    "data = model.DictObjectStore()\n",
    "data.add(aas)\n",
    "data.add(submodel)\n",
    "write_aas_json_file(storage_path, data)\n",
    "print(f\"AAS data has been successfully saved to {storage_path} \")"
   ]
  },
  {
   "cell_type": "markdown",
   "id": "2782b6a4-ec3e-4268-a264-9e1faa9e2bc2",
   "metadata": {},
   "source": [
    "## Step 2: Host AAS and Submodels via BaSyx AAS Repository and Submodel Repository \n",
    "**Import Libraries to Set Up BaSyx AAS and Submodel Server**"
   ]
  },
  {
   "cell_type": "code",
   "execution_count": 13,
   "id": "b4bf6ff4-34b3-49ce-a24a-aa1994c12c15",
   "metadata": {},
   "outputs": [],
   "source": [
    "import pathlib\n",
    "import sys, time, threading\n",
    "import os\n",
    "\n",
    "from basyx.aas import model, adapter\n",
    "from basyx.aas.adapter import aasx\n",
    "from waitress import serve\n",
    "from basyx.aas.backend.local_file import LocalFileObjectStore\n",
    "from basyx.aas.adapter.http import WSGIApp\n"
   ]
  },
  {
   "cell_type": "markdown",
   "id": "1e1a3835-35a3-4a15-8b73-c4bb6ef6d749",
   "metadata": {},
   "source": [
    "**Set the path and required environment variables**"
   ]
  },
  {
   "cell_type": "code",
   "execution_count": 14,
   "id": "e06babf7-8569-4662-8ee1-e28e4dd0cc78",
   "metadata": {},
   "outputs": [],
   "source": [
    "current_dir = os.getcwd()\n",
    "storage_path = os.path.abspath(os.path.join(current_dir, \"server/app/storage\"))\n",
    "storage_type = os.getenv(\"STORAGE_TYPE\", \"LOCAL_FILE_READ_ONLY\")\n",
    "base_path = os.getenv(\"API_BASE_PATH\")"
   ]
  },
  {
   "cell_type": "markdown",
   "id": "176f89ca-faeb-4c67-8218-bc5800da3e31",
   "metadata": {},
   "source": [
    "**Host AAS and Submodels by setting up BaSyx Server**"
   ]
  },
  {
   "cell_type": "code",
   "execution_count": 15,
   "id": "e0e1697e-3f97-4aae-b05f-ae84810d94a6",
   "metadata": {},
   "outputs": [
    {
     "name": "stdout",
     "output_type": "stream",
     "text": [
      "{\"assetAdministrationShells\": [{\"modelType\": \"AssetAdministrationShell\", \"id\": \"https://example.com/AAS\", \"assetInformation\": {\"assetKind\": \"Instance\", \"globalAssetId\": \"Asset1\"}, \"submodels\": [{\"type\": \"ModelReference\", \"keys\": [{\"type\": \"Submodel\", \"value\": \"https://example.com/Submodel\"}]}]}], \"submodels\": [{\"modelType\": \"Submodel\", \"id\": \"https://example.com/Submodel\", \"submodelElements\": [{\"idShort\": \"Temperature\", \"modelType\": \"Property\", \"semanticId\": {\"type\": \"ExternalReference\", \"keys\": [{\"type\": \"GlobalReference\", \"value\": \"http://acplt.org/Properties/FirstSimpleProperty\"}]}, \"value\": \"25.3\", \"valueType\": \"xs:float\"}, {\"idShort\": \"Pressure\", \"modelType\": \"Property\", \"semanticId\": {\"type\": \"ExternalReference\", \"keys\": [{\"type\": \"GlobalReference\", \"value\": \"http://acplt.org/Properties/SecondSimpleProperty\"}]}, \"value\": \"100\", \"valueType\": \"xs:integer\"}]}]}\n",
      "Loading C:\\Users\\chakrabo\\Documents\\Project_David\\basyx-python-sdk\\server\\app\\storage\\aas_data.json\n",
      "DEBUG: Attempting to load C:\\Users\\chakrabo\\Documents\\Project_David\\basyx-python-sdk\\server\\app\\storage\\aas_data.json\n",
      "DEBUG: Successfully loaded C:\\Users\\chakrabo\\Documents\\Project_David\\basyx-python-sdk\\server\\app\\storage\\aas_data.json. Object store now contains: [AssetAdministrationShell[https://example.com/AAS], Submodel[https://example.com/Submodel]]\n"
     ]
    }
   ],
   "source": [
    "wsgi_optparams = {}\n",
    "\n",
    "if base_path is not None:\n",
    "    wsgi_optparams[\"base_path\"] = base_path\n",
    "\n",
    "if storage_type == \"LOCAL_FILE_BACKEND\":\n",
    "    application = WSGIApp(LocalFileObjectStore(storage_path), aasx.DictSupplementaryFileContainer(), **wsgi_optparams)\n",
    "\n",
    "elif storage_type in \"LOCAL_FILE_READ_ONLY\":\n",
    "    object_store: model.DictObjectStore = model.DictObjectStore()\n",
    "    file_store: aasx.DictSupplementaryFileContainer = aasx.DictSupplementaryFileContainer()\n",
    "\n",
    "   # with open(\"storage/aas_data.json\") as f:\n",
    "    with open(os.path.join(storage_path, \"aas_data.json\")) as f:    \n",
    "        print(f.read())\n",
    "\n",
    "    for file in pathlib.Path(storage_path).iterdir():\n",
    "        if not file.is_file():\n",
    "            continue\n",
    "        print(f\"Loading {file}\")\n",
    "\n",
    "        if file.suffix.lower() == \".json\":\n",
    "            print(f\"DEBUG: Attempting to load {file}\")\n",
    "            with open(file) as f:\n",
    "                try:\n",
    "                    adapter.json.read_aas_json_file_into(object_store, f)\n",
    "                    print(f\"DEBUG: Successfully loaded {file}. Object store now contains: {list(object_store)}\")\n",
    "                except Exception as e:\n",
    "                    print(f\"ERROR: Failed to load {file}. Reason: {e}\") \n",
    "        elif file.suffix.lower() == \".xml\":\n",
    "            with open(file) as f:\n",
    "                adapter.xml.read_aas_xml_file_into(object_store, file)\n",
    "        elif file.suffix.lower() == \".aasx\":\n",
    "            with aasx.AASXReader(file) as reader:\n",
    "                reader.read_into(object_store=object_store, file_store=file_store)\n",
    "\n",
    "    if not list(object_store):  # If empty, add a sample AAS\n",
    "        print(\"No AAS found, adding a default AAS...\")\n",
    "        aas = model.AssetAdministrationShell(\n",
    "            identification=model.Identifier(\"ExampleAAS\"),\n",
    "            asset_information=model.AssetInformation(global_asset_id=model.Identifier(\"ExampleAsset\")),\n",
    "        )\n",
    "        object_store.add(aas)\n",
    "    application = WSGIApp(object_store, file_store, **wsgi_optparams)\n",
    "    \n",
    "\n",
    "else:\n",
    "    print(f\"STORAGE_TYPE must be either LOCAL_FILE or LOCAL_FILE_READ_ONLY! Current value: {storage_type}\",\n",
    "          file=sys.stderr)\n",
    "    \n",
    "\n"
   ]
  },
  {
   "cell_type": "markdown",
   "id": "b3801e4d-47f2-475a-9377-e6312a43d656",
   "metadata": {},
   "source": [
    "**Watch for Changes in AAS JSON**"
   ]
  },
  {
   "cell_type": "code",
   "execution_count": 16,
   "id": "54a60f6c-a22d-4557-beaf-d127606e2f80",
   "metadata": {},
   "outputs": [],
   "source": [
    "def watch_storage():\n",
    "    \"\"\"Monitor storage directory for changes in AAS JSON.\"\"\"\n",
    "    json_file_path = os.path.join(storage_path, \"aas_data.json\")\n",
    "    \n",
    "    while not os.path.exists(json_file_path):\n",
    "        print(f\"⚠️ Warning: {json_file_path} does not exist. File watcher will not run.\")\n",
    "        time.sleep(5)\n",
    "        #return\n",
    "    last_modified = os.path.getmtime(json_file_path)\n",
    "    \n",
    "    while True:\n",
    "        time.sleep(5)  # Check every 5 seconds\n",
    "        if os.path.getmtime(json_file_path) > last_modified:\n",
    "            print(\"⚠️ Detected changes in AAS JSON. Restarting server...\")\n",
    "            os.execv(sys.executable, ['python'] + sys.argv)\n",
    "            "
   ]
  },
  {
   "cell_type": "markdown",
   "id": "22627d64-29c6-4ce5-bbfa-b2617e6a3969",
   "metadata": {},
   "source": [
    "**Start the BaSyx Server**"
   ]
  },
  {
   "cell_type": "code",
   "execution_count": 17,
   "id": "eb24cc70-ffc5-4c20-832e-c2b8daef095d",
   "metadata": {},
   "outputs": [
    {
     "name": "stdout",
     "output_type": "stream",
     "text": [
      "Starting BaSyx AAS Server on http://localhost:8080/api/v3.0\n"
     ]
    }
   ],
   "source": [
    "def start_server():\n",
    "    print(\"Starting BaSyx AAS Server on http://localhost:8080/api/v3.0\")\n",
    "    serve(application, host=\"0.0.0.0\", port=8080)\n",
    "\n",
    "server_thread = threading.Thread(target=start_server, daemon=True)\n",
    "server_thread.start()\n",
    "\n",
    "watcher_thread = threading.Thread(target=watch_storage, daemon=True)\n",
    "watcher_thread.start()"
   ]
  },
  {
   "cell_type": "markdown",
   "id": "167dd5ef-604a-4cf0-b7f4-028c73739727",
   "metadata": {},
   "source": [
    "**Once started,  you can visit [http://localhost:8080/api/v3.0/shells](http://localhost:8080/api/v3.0/shells) to verify the AAS data and [http://localhost:8080/api/v3.0/submodels](http://localhost:8080/api/v3.0/submodels) to verify the submodel data.**"
   ]
  },
  {
   "cell_type": "markdown",
   "id": "fb876050-e51d-47b5-9a06-0185f3413c03",
   "metadata": {},
   "source": [
    "## Step 3: Visualization of AAS and submodel data through Dash Web Application\n",
    "**Import required libraries for Dash Web Application**"
   ]
  },
  {
   "cell_type": "code",
   "execution_count": 18,
   "id": "11719a86-d7e2-4df7-8dd4-2c574b7142f3",
   "metadata": {},
   "outputs": [],
   "source": [
    "import requests\n",
    "import dash\n",
    "from dash import dcc, html, Input, Output, dash_table\n",
    "import pandas as pd"
   ]
  },
  {
   "cell_type": "markdown",
   "id": "1aed8d2e-c3d8-4774-bb2c-94318e3d8169",
   "metadata": {},
   "source": [
    "**Fetch & Visualize AAS using Dash**"
   ]
  },
  {
   "cell_type": "code",
   "execution_count": 19,
   "id": "c704644e-0517-4823-a272-e0155de0d770",
   "metadata": {},
   "outputs": [],
   "source": [
    "API_URL = \"http://localhost:8080/api/v3.0/shells\"\n",
    "\n",
    "def fetch_aas_data():\n",
    "    \"\"\"Fetch AAS data from the Basyx server.\"\"\"\n",
    "    for _ in range(5):\n",
    "        try:\n",
    "            response = requests.get(API_URL)\n",
    "            #print(response.status_code)  # Expect 200\n",
    "            #print(response.json()) \n",
    "            data = response.json()\n",
    "            return data  # Return full AAS data\n",
    "        except requests.exceptions.ConnectionError:\n",
    "            print(\"🔁 AAS server not ready yet. Retrying in 2 seconds...\")\n",
    "            time.sleep(2)\n",
    "    return {\"error\": \"❌ Failed to fetch AAS data\"}"
   ]
  },
  {
   "cell_type": "markdown",
   "id": "06363f8b-2b12-484c-8732-25c2fc4181c4",
   "metadata": {},
   "source": [
    "**Fetch & Visualize the submodels using Dash**"
   ]
  },
  {
   "cell_type": "code",
   "execution_count": 20,
   "id": "ae0915ef-46c8-4d2a-9427-1ba39de6079d",
   "metadata": {},
   "outputs": [],
   "source": [
    "API_SUBMODEL_URL = \"http://localhost:8080/api/v3.0/submodels\"\n",
    "\n",
    "def fetch_submodel_data():\n",
    "    \"\"\"Fetch submodel data from the Basyx server.\"\"\"\n",
    "    for _ in range(5):  # Try 5 times\n",
    "        try:\n",
    "            response = requests.get(API_SUBMODEL_URL)\n",
    "            #print(response.status_code)  # Expect 200\n",
    "            #print(response.json()) \n",
    "            data = response.json()\n",
    "            return data  # Return full submodel data\n",
    "        except requests.exceptions.ConnectionError:\n",
    "            print(\"🔁 AAS server not ready yet. Retrying in 2 seconds...\")\n",
    "            time.sleep(2)\n",
    "    return {\"error\": \"❌ Failed to fetch Submodel data\"}\n",
    "    "
   ]
  },
  {
   "cell_type": "markdown",
   "id": "5c76a220-861c-4d4c-b14f-5ea3ca5fc638",
   "metadata": {},
   "source": [
    "**Create the Dash application instance**"
   ]
  },
  {
   "cell_type": "code",
   "execution_count": 21,
   "id": "bf0b885f-6c88-47f5-8e34-c0360a6f0b91",
   "metadata": {},
   "outputs": [],
   "source": [
    "app = dash.Dash(__name__)"
   ]
  },
  {
   "cell_type": "markdown",
   "id": "c248d222-0c4d-4e7d-8332-a12e0055fbe2",
   "metadata": {},
   "source": [
    "**Define the structure of the web application using HTML components**"
   ]
  },
  {
   "cell_type": "code",
   "execution_count": 22,
   "id": "a1468f27-d307-4628-ac8e-3755f80c3978",
   "metadata": {},
   "outputs": [],
   "source": [
    "\n",
    "app.layout = html.Div([\n",
    "    html.H1(\"AAS Viewer - Dash Web App\"),\n",
    "    html.Button(\"Refresh Data\", id=\"refresh-btn\", n_clicks=0),\n",
    "    html.H3(\"Asset Administration Shells\"),\n",
    "    html.Div(id=\"aas-output\"),\n",
    "    html.H3(\"Submodels\"),\n",
    "html.Div(id=\"submodels-output\")   \n",
    "])\n"
   ]
  },
  {
   "cell_type": "markdown",
   "id": "b50cbc24-4ec0-49b8-9849-cb3b18844baa",
   "metadata": {},
   "source": [
    "**Callback to Update AAS and Submodels' Output**"
   ]
  },
  {
   "cell_type": "code",
   "execution_count": 23,
   "id": "77d03b51-f08f-44f2-b530-993875f23ebe",
   "metadata": {},
   "outputs": [],
   "source": [
    "@app.callback(\n",
    "    [Output(\"aas-output\", \"children\"),\n",
    "     Output(\"submodels-output\", \"children\")],\n",
    "    [Input(\"refresh-btn\", \"n_clicks\")]\n",
    ")\n",
    "\n",
    "def update_view(n_clicks):\n",
    "    aas_data = fetch_aas_data()\n",
    "    submodels = fetch_submodel_data()\n",
    "    \n",
    "    # Convert JSON data into a readable format\n",
    "    aas_tree = html.Pre(str(aas_data), style={\"whiteSpace\": \"pre-wrap\"})\n",
    "    submodel_tree = html.Pre(str(submodels), style={\"whiteSpace\": \"pre-wrap\"})\n",
    "\n",
    "    return aas_tree, submodel_tree #return aas_tree, table_data\n"
   ]
  },
  {
   "cell_type": "markdown",
   "id": "7c8f7be8-da41-46d8-ae59-2a63be5e545b",
   "metadata": {},
   "source": [
    "**Run the Dash App**"
   ]
  },
  {
   "cell_type": "code",
   "execution_count": 24,
   "id": "70fa6da8-b948-45c2-bab6-1d7bc8056d17",
   "metadata": {},
   "outputs": [
    {
     "data": {
      "text/html": [
       "\n",
       "        <iframe\n",
       "            width=\"100%\"\n",
       "            height=\"650\"\n",
       "            src=\"http://127.0.0.1:8050/\"\n",
       "            frameborder=\"0\"\n",
       "            allowfullscreen\n",
       "            \n",
       "        ></iframe>\n",
       "        "
      ],
      "text/plain": [
       "<IPython.lib.display.IFrame at 0x2452aa377d0>"
      ]
     },
     "metadata": {},
     "output_type": "display_data"
    }
   ],
   "source": [
    "if __name__ == \"__main__\":\n",
    "    app.run_server(debug=True, port=8050)\n"
   ]
  }
 ],
 "metadata": {
  "kernelspec": {
   "display_name": "Python 3 (ipykernel)",
   "language": "python",
   "name": "python3"
  },
  "language_info": {
   "codemirror_mode": {
    "name": "ipython",
    "version": 3
   },
   "file_extension": ".py",
   "mimetype": "text/x-python",
   "name": "python",
   "nbconvert_exporter": "python",
   "pygments_lexer": "ipython3",
   "version": "3.12.1"
  }
 },
 "nbformat": 4,
 "nbformat_minor": 5
}
